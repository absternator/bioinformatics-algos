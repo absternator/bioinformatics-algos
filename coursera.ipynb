{
 "cells": [
  {
   "cell_type": "markdown",
   "metadata": {},
   "source": [
    "## Bioinformatics Algorithms intro"
   ]
  },
  {
   "cell_type": "code",
   "execution_count": 1,
   "metadata": {},
   "outputs": [
    {
     "name": "stdout",
     "output_type": "stream",
     "text": [
      "548\n"
     ]
    }
   ],
   "source": [
    "ori = 'atcaatgatcaacgtaagcttctaagcatgatcaaggtgctcacacagtttatccacaac ctgagtggatgacatcaagataggtcgttgtatctccttcctctcgtactctcatgacca cggaaagatgatcaagagaggatgatttcttggccatatcgcaatgaatacttgtgactt gtgcttccaattgacatcttcagcgccatattgcgctggccaaggtgacggagcgggatt acgaaagcatgatcatggctgttgttctgtttatcttgttttgactgagacttgttagga tagacggtttttcatcactgactagccaaagccttactctgcctgacatcgaccgtaaat tgataatgaatttacatgcttccgcgacgatttacctcttgatcatcgatccgattgaag atcttcaattgttaattctcttgcctcgactcatagccatgatgagctcttgatcatgtt tccttaaccctctattttttacggaagaatgatcaagctgctgctcttgatcatcgtttc'\n",
    "vibro_cholarae = \"ATCAATGATCAACGTAAGCTTCTAAGCATGATCAAGGTGCTCACACAGTTTATCCACAACCTGAGTGGATGACATCAAGATAGGTCGTTGTATCTCCTTCCTCTCGTACTCTCATGACCACGGAAAGATGATCAAGAGAGGATGATTTCTTGGCCATATCGCAATGAATACTTGTGACTTGTGCTTCCAATTGACATCTTCAGCGCCATATTGCGCTGGCCAAGGTGACGGAGCGGGATTACGAAAGCATGATCATGGCTGTTGTTCTGTTTATCTTGTTTTGACTGAGACTTGTTAGGATAGACGGTTTTTCATCACTGACTAGCCAAAGCCTTACTCTGCCTGACATCGACCGTAAATTGATAATGAATTTACATGCTTCCGCGACGATTTACCTCTTGATCATCGATCCGATTGAAGATCTTCAATTGTTAATTCTCTTGCCTCGACTCATAGCCATGATGAGCTCTTGATCATGTTTCCTTAACCCTCTATTTTTTACGGAAGAATGATCAAGCTGCTGCTCTTGATCATCGTTTC\"\n",
    "# Then, print the length of ori\n",
    "print(len(ori))"
   ]
  },
  {
   "cell_type": "code",
   "execution_count": 2,
   "metadata": {},
   "outputs": [
    {
     "name": "stdout",
     "output_type": "stream",
     "text": [
      "8\n"
     ]
    }
   ],
   "source": [
    "def pattern_count(text: str, pattern: str) -> int:\n",
    "    count = 0\n",
    "    p_len = len(pattern)\n",
    "    for i in range(len(text) - p_len + 1):\n",
    "        if pattern == text[i:i + p_len]:\n",
    "            count += 1\n",
    "    return count\n",
    "\n",
    "print(pattern_count(vibro_cholarae, \"TGATCA\"))\n"
   ]
  },
  {
   "cell_type": "code",
   "execution_count": 3,
   "metadata": {},
   "outputs": [],
   "source": [
    "# most frequent k-mer in string\n",
    "def FrequencyMap(Text, k):\n",
    "    freq = {}\n",
    "    for i in range(len(Text) - k + 1):\n",
    "        pattern = Text[i:i + k]\n",
    "        freq[pattern] = freq.get(pattern, 0) + 1\n",
    "    return freq\n",
    "\n",
    "\n"
   ]
  },
  {
   "cell_type": "code",
   "execution_count": 4,
   "metadata": {},
   "outputs": [
    {
     "name": "stdout",
     "output_type": "stream",
     "text": [
      "['CTCTTGATCA', 'TCTTGATCAT']\n"
     ]
    }
   ],
   "source": [
    "def FrequentWords(Text, k):\n",
    "    freq_map  = FrequencyMap(Text, k)\n",
    "    max_sub = max(freq_map.values())\n",
    "    return [key for key in freq_map if freq_map[key] == max_sub]\n",
    "\n",
    "freq_words = FrequentWords(vibro_cholarae, 10)\n",
    "print(freq_words)"
   ]
  },
  {
   "cell_type": "code",
   "execution_count": 5,
   "metadata": {},
   "outputs": [
    {
     "name": "stdout",
     "output_type": "stream",
     "text": [
      "CTTGATCAT\n"
     ]
    }
   ],
   "source": [
    "def compliment(text: str) -> str:\n",
    "    compliments = {\"A\": \"T\", \"T\": \"A\", \"C\": \"G\", \"G\": \"C\"}\n",
    "    reverse = text[::-1]\n",
    "    compliment_chars = [compliments[s] for s in reverse]\n",
    "    return \"\".join(compliment_chars) \n",
    "\n",
    "print(compliment(\"ATGATCAAG\"))"
   ]
  },
  {
   "cell_type": "code",
   "execution_count": 6,
   "metadata": {},
   "outputs": [
    {
     "name": "stdout",
     "output_type": "stream",
     "text": [
      "[]\n"
     ]
    }
   ],
   "source": [
    "def pattern_match(pattern, genome):\n",
    "    output = []\n",
    "    for i in range(len(genome) - len(pattern) + 1):\n",
    "        sub = genome[i: i + len(pattern)]\n",
    "        if pattern == sub:\n",
    "            output.append(i)\n",
    "    return output\n",
    "\n",
    "print(pattern_match(\"CTTGATCAT\", \"GATATATGCATATACTT\"))"
   ]
  },
  {
   "cell_type": "code",
   "execution_count": 7,
   "metadata": {},
   "outputs": [
    {
     "name": "stdout",
     "output_type": "stream",
     "text": [
      "{'TCTTGATCA', 'CTTGATCAT', 'ATGATCAAG', 'CTCTTGATC'}\n"
     ]
    }
   ],
   "source": [
    "# loops through sets of L first (chunk it), find all string in that sub string tha\n",
    "# occurs t times and is k length long\n",
    "def find_patterns(sequence, k, t) -> set:\n",
    "    freq = {}\n",
    "    for i in range(len(sequence) - k + 1):\n",
    "        pattern = sequence[i: i + k]\n",
    "        freq[pattern] = freq.get(pattern, 0) + 1 \n",
    "    return {pattern for pattern, count in freq.items() if count == t}\n",
    "\n",
    "def find_distinct_kmers_from_clump(genome: str, k: int, L: int, t: int):\n",
    "    distinct = set()\n",
    "    loops = (len(genome) // L) + (len(genome) - L)\n",
    "    for i in range(loops + 1):\n",
    "        patterns = find_patterns(genome[i:i+L], k, t)\n",
    "        distinct.update(patterns)\n",
    "    return distinct\n",
    "\n",
    "genome = \"gatcagcataagggtccCTGCAATGCATGACAAGCCTGCAGTtgttttac\"\n",
    "print(find_distinct_kmers_from_clump(vibro_cholarae, k = 9, L = 500,t = 3))"
   ]
  },
  {
   "cell_type": "code",
   "execution_count": 8,
   "metadata": {},
   "outputs": [
    {
     "name": "stdout",
     "output_type": "stream",
     "text": [
      "{0: 4, 1: 3, 2: 2, 3: 1, 4: 0, 5: 1, 6: 2, 7: 3}\n"
     ]
    }
   ],
   "source": [
    "def symbol_array(genome: str, symbol: str) -> dict[str]:\n",
    "    window_l = len(genome) // 2\n",
    "    extended_genome = genome + genome[0:window_l]\n",
    "    symbol_array = {}\n",
    "    for i in range(len(genome)):\n",
    "        sub = extended_genome[i:i + window_l]\n",
    "        symbol_array[i] = pattern_count(sub, symbol) # can also user sub.count(symbol)\n",
    "    return symbol_array\n",
    "\n",
    "print(symbol_array(\"AAAAGGGG\", \"A\"))"
   ]
  },
  {
   "cell_type": "code",
   "execution_count": 9,
   "metadata": {},
   "outputs": [
    {
     "data": {
      "text/plain": [
       "0"
      ]
     },
     "execution_count": 9,
     "metadata": {},
     "output_type": "execute_result"
    }
   ],
   "source": [
    "# window sliding technique\n",
    "def faster_symbol_array(genome: str, symbol: str) -> dict[str]:\n",
    "    n = len(genome)\n",
    "    window_l = n // 2\n",
    "    extended_genome = genome + genome[0:window_l]\n",
    "    symbol_array = {}\n",
    "    # look at the first half of Genome to compute first array value\n",
    "    symbol_array[0] = pattern_count(genome[0:window_l] , symbol)\n",
    "    \n",
    "    for i in range(1, n):\n",
    "        symbol_array[i] = symbol_array[i-1]\n",
    "        # the current array value can differ from the previous array value by at most 1\n",
    "        if extended_genome[i-1] == symbol:\n",
    "            symbol_array[i] = symbol_array[i] - 1\n",
    "        if extended_genome[i + window_l - 1] == symbol:\n",
    "            symbol_array[i] = symbol_array[i] + 1\n",
    "    return symbol_array\n",
    "\n",
    "start = faster_symbol_array(\"AAAAGGGG\", \"A\")\n",
    "max(start, key= start.get)"
   ]
  },
  {
   "cell_type": "code",
   "execution_count": 10,
   "metadata": {},
   "outputs": [
    {
     "name": "stdout",
     "output_type": "stream",
     "text": [
      "1651311\n",
      "3971149\n"
     ]
    }
   ],
   "source": [
    "# way faster and actually runs\n",
    "# min is start of forward half strand and max is start of reverse half strand\n",
    "with open('e.coli.txt', 'r') as file:\n",
    "    e_coli_string = file.read()\n",
    "    start = faster_symbol_array(e_coli_string, \"C\")\n",
    "    print(max(start, key= start.get))  \n",
    "    print(min(start, key= start.get))  "
   ]
  },
  {
   "cell_type": "code",
   "execution_count": 11,
   "metadata": {},
   "outputs": [
    {
     "data": {
      "text/plain": [
       "'0 1 1 2 1 0 0 -1 -2 -1 -2 -1 -1 -1 -1'"
      ]
     },
     "execution_count": 11,
     "metadata": {},
     "output_type": "execute_result"
    }
   ],
   "source": [
    "def skew_array(genome):\n",
    "    array = [0]\n",
    "    for i in range(len(genome)):\n",
    "        if genome[i] == \"A\" or genome[i] == \"T\":\n",
    "            array.append(array[i])\n",
    "        elif genome[i] == \"C\":\n",
    "            array.append(array[i] - 1)\n",
    "        else:\n",
    "            array.append(array[i] + 1)\n",
    "    return array\n",
    "\n",
    "\" \".join(map(str, skew_array(\"GAGCCACCGCGATA\")))  \n"
   ]
  },
  {
   "cell_type": "code",
   "execution_count": 12,
   "metadata": {},
   "outputs": [
    {
     "data": {
      "image/png": "[encoded data removed]",
      "text/plain": [
       "<Figure size 640x480 with 1 Axes>"
      ]
     },
     "metadata": {},
     "output_type": "display_data"
    }
   ],
   "source": [
    "import matplotlib.pyplot as plt;\n",
    "with open('e.coli.txt', 'r') as file:\n",
    "    e_coli_string = file.read()\n",
    "    skw_arr = skew_array(e_coli_string)\n",
    "    plt.plot(skw_arr)\n",
    "    plt.xlabel(\"skew (G - C)\")\n",
    "    plt.ylabel(\"position\")"
   ]
  },
  {
   "cell_type": "code",
   "execution_count": 13,
   "metadata": {},
   "outputs": [
    {
     "data": {
      "text/plain": [
       "[11, 24]"
      ]
     },
     "execution_count": 13,
     "metadata": {},
     "output_type": "execute_result"
    }
   ],
   "source": [
    "def minimize_skew(genome):\n",
    "    skw_arr = skew_array(genome)\n",
    "    min_val = min(skw_arr)\n",
    "    return [idx for idx,val in enumerate(skw_arr) if val == min_val]\n",
    "\n",
    "minimize_skew(\"TAAAGACTGCCGAGAGGCCAACACGAGTGCTAGAACGAGGGGCGTAAACGCGGGTCCGAT\")"
   ]
  },
  {
   "cell_type": "code",
   "execution_count": 14,
   "metadata": {},
   "outputs": [
    {
     "data": {
      "text/plain": [
       "3"
      ]
     },
     "execution_count": 14,
     "metadata": {},
     "output_type": "execute_result"
    }
   ],
   "source": [
    "# assume same len p,q\n",
    "def hamming_distance(p:str, q:str) -> int:\n",
    "    dist = 0\n",
    "    for i in range(len(p)):\n",
    "        if p[i] != q[i]:\n",
    "            dist += 1\n",
    "    return dist\n",
    "\n",
    "hamming_distance(\"GGGCCGTTGGT\", \"GGACCGTTGAC\")"
   ]
  },
  {
   "cell_type": "code",
   "execution_count": 15,
   "metadata": {},
   "outputs": [
    {
     "data": {
      "text/plain": [
       "[6, 7, 26, 27]"
      ]
     },
     "execution_count": 15,
     "metadata": {},
     "output_type": "execute_result"
    }
   ],
   "source": [
    "def find_approx_patternMatching(text:str, pattern:str, d: int) -> list[int]:\n",
    "    output = []\n",
    "    for i in range(len(text) - len(pattern) + 1):\n",
    "        sub = text[i: i + len(pattern)]\n",
    "        if hamming_distance(pattern, sub) <= d:\n",
    "            output.append(i)\n",
    "    return output\n",
    "\n",
    "find_approx_patternMatching(\"CGCCCGAATCCAGAACGCATTCCCATATTTCGGGACCACTGGCCTCCACGGTACGGACGTCAATCAAAT\",\"ATTCTGGA\", 3)"
   ]
  },
  {
   "cell_type": "code",
   "execution_count": 16,
   "metadata": {},
   "outputs": [
    {
     "data": {
      "text/plain": [
       "4"
      ]
     },
     "execution_count": 16,
     "metadata": {},
     "output_type": "execute_result"
    }
   ],
   "source": [
    "def find_approx_pattern_count(text: str, pattern: str, d) -> int:\n",
    "    idxs = find_approx_patternMatching(text, pattern,d )\n",
    "    return len(idxs)\n",
    "\n",
    "find_approx_pattern_count(\"TTTAGAGCCTTCAGAGG\", \"GAGG\", 2)"
   ]
  },
  {
   "cell_type": "code",
   "execution_count": 17,
   "metadata": {},
   "outputs": [
    {
     "name": "stdout",
     "output_type": "stream",
     "text": [
      "9.916290005356972\n"
     ]
    }
   ],
   "source": [
    "# 1.7 entropy calc- usually better than just score for motifs!!!\n",
    "import numpy as np\n",
    "def calculate_entropy(probs):\n",
    "    return -sum(prob * np.log2(prob) for prob in probs if prob > 0)\n",
    "\n",
    "# Example usage\n",
    "probs = [0.2, 0.1, 0.7, 0.2, 0.6, 0.2, 1, 1, 0.9, 0.1, 0.9, 0.1, 0.9, 0.1, 0.1, 0.4, 0.5, 0.1, 0.1, 0.8, 0.1, 0.2, 0.7, 0.3, 0.4, 0.3, 0.6, 0.4]\n",
    "entropy = calculate_entropy(probs)\n",
    "print(entropy)"
   ]
  },
  {
   "cell_type": "code",
   "execution_count": 18,
   "metadata": {},
   "outputs": [
    {
     "data": {
      "text/plain": [
       "{'A': [1, 2, 1, 0, 0, 2],\n",
       " 'C': [2, 1, 4, 2, 0, 0],\n",
       " 'G': [1, 1, 0, 2, 1, 1],\n",
       " 'T': [1, 1, 0, 1, 4, 2]}"
      ]
     },
     "execution_count": 18,
     "metadata": {},
     "output_type": "execute_result"
    }
   ],
   "source": [
    "def count_motifs(motifs):\n",
    "    len_str = len(motifs[0])\n",
    "    count_motifs = {nucleotide: [0]*len_str for nucleotide in \"ACGT\"}\n",
    "    # each motif, each char add count to that index!\n",
    "    for motif in motifs:\n",
    "        for i,char in enumerate(motif):\n",
    "            count_motifs[char][i] += 1\n",
    "    return count_motifs\n",
    "\n",
    "motifs = [\"AACGTA\",\"CCCGTT\",\"CACCTT\", \"GGATTA\", \"TTCCGG\"]\n",
    "count_motifs(motifs)"
   ]
  },
  {
   "cell_type": "code",
   "execution_count": 19,
   "metadata": {},
   "outputs": [
    {
     "name": "stdout",
     "output_type": "stream",
     "text": [
      "{'A': [0.2, 0.4, 0.2, 0.0, 0.0, 0.4], 'C': [0.4, 0.2, 0.8, 0.4, 0.0, 0.0], 'G': [0.2, 0.2, 0.0, 0.4, 0.2, 0.2], 'T': [0.2, 0.2, 0.0, 0.2, 0.8, 0.4]}\n"
     ]
    }
   ],
   "source": [
    "def profile_motifs(motifs: list[str]) -> dict[str, list[int]]:\n",
    "    n_rows = len(motifs)\n",
    "    counts_dict = count_motifs(motifs)\n",
    "    profile = {}\n",
    "    for char, counts in counts_dict.items():\n",
    "        profile[char] = [count/n_rows for count in counts]   \n",
    "    return profile;\n",
    "\n",
    "print(profile_motifs(motifs))"
   ]
  },
  {
   "cell_type": "code",
   "execution_count": 20,
   "metadata": {},
   "outputs": [
    {
     "name": "stdout",
     "output_type": "stream",
     "text": [
      "CACCTA\n"
     ]
    }
   ],
   "source": [
    "# max count of samples (makes more sense honestly)\n",
    "def consensus_motif(motifs): \n",
    "    counts_dict = count_motifs(motifs)\n",
    "    consensus = \"\"\n",
    "    for i in range(len(motifs[0])):\n",
    "        col = {row: counts_dict[row][i] for row in counts_dict}\n",
    "        consensus += max(col, key=col.get)\n",
    "    return consensus\n",
    "        \n",
    "print(consensus_motif(motifs))    "
   ]
  },
  {
   "cell_type": "code",
   "execution_count": 21,
   "metadata": {},
   "outputs": [
    {
     "data": {
      "text/plain": [
       "14"
      ]
     },
     "execution_count": 21,
     "metadata": {},
     "output_type": "execute_result"
    }
   ],
   "source": [
    "def score_motif(motifs):\n",
    "    score = 0\n",
    "    consensus = consensus_motif(motifs)\n",
    "    for i in range(len(consensus)):\n",
    "        col = [motif[i] for motif in motifs]\n",
    "        score += sum(1 for char in col if char != consensus[i])\n",
    "    return score\n",
    "\n",
    "def score_alternate(motifs):\n",
    "    score = 0\n",
    "    consensus = consensus_motif(motifs)\n",
    "    for i in range(len(motifs)):\n",
    "        for j in range(len(motifs[0])):\n",
    "            if motifs[i][j] != consensus[j]:\n",
    "                score += 1\n",
    "    return score\n",
    "\n",
    "score_alternate(motifs)"
   ]
  },
  {
   "cell_type": "code",
   "execution_count": 22,
   "metadata": {},
   "outputs": [
    {
     "name": "stdout",
     "output_type": "stream",
     "text": [
      "8.331568569324173\n"
     ]
    }
   ],
   "source": [
    "def entropy_motifs(motifs):\n",
    "    probs = np.ravel(list(profile_motifs(motifs).values()))\n",
    "    return calculate_entropy(probs)\n",
    "print(entropy_motifs(motifs))\n",
    "    "
   ]
  },
  {
   "cell_type": "code",
   "execution_count": 23,
   "metadata": {},
   "outputs": [
    {
     "data": {
      "text/plain": [
       "0.0108"
      ]
     },
     "execution_count": 23,
     "metadata": {},
     "output_type": "execute_result"
    }
   ],
   "source": [
    "def pr(text: str, profile: dict[str, list[str]]):\n",
    "    prob = 1\n",
    "    for i in range(len(text)):\n",
    "        prob *= profile[text[i]][i]\n",
    "    return prob\n",
    "\n",
    "pr(\"CAGTGA\", {\n",
    "    \"A\": [0.4 , 0.3,  0.0,  0.1,  0.0,  0.9],\n",
    "    \"C\": [0.2 , 0.3,  0.0,  0.4,  0.0,  0.1],\n",
    "    \"G\": [0.1 , 0.3,  1.0,  0.1,  0.5,  0.0],\n",
    "    \"T\": [0.3 , 0.1,  0.0,  0.4,  0.5,  0.0]\n",
    "})\n",
    "        "
   ]
  },
  {
   "cell_type": "code",
   "execution_count": 24,
   "metadata": {},
   "outputs": [],
   "source": [
    "def profile_most_probable_kmer(text, k, profile):\n",
    "    most_prob, prob = \"\", -1\n",
    "    for i in range(len(text) - k + 1):\n",
    "        kmer = text[i: i + k]\n",
    "        kmer_prob = pr(kmer, profile)\n",
    "        if kmer_prob > prob:\n",
    "            most_prob,prob = kmer, kmer_prob\n",
    "    return most_prob\n",
    "\n"
   ]
  },
  {
   "cell_type": "code",
   "execution_count": 25,
   "metadata": {},
   "outputs": [
    {
     "data": {
      "text/plain": [
       "['CAG', 'CAG', 'CAA', 'CAA', 'CAA']"
      ]
     },
     "execution_count": 25,
     "metadata": {},
     "output_type": "execute_result"
    }
   ],
   "source": [
    "# greedy algos want the best solution at current time (locally!) at each step\n",
    "# Input:  A list of kmers Dna, and integers k and t (where t is the number of kmers in Dna)\n",
    "# Output: GreedyMotifSearch(Dna, k, t)\n",
    "# find the motif for each kmer of dna!!!\n",
    "def greedy_motif_search(dna: list[str], k: int, t: int) -> list[str]:\n",
    "    best_motifs = []\n",
    "    # assign first kmer as best\n",
    "    for i in range(0, t):\n",
    "        best_motifs.append(dna[i][0:k])\n",
    "    n = len(dna[0])\n",
    "    for i in range(n - k + 1):\n",
    "        motifs = []\n",
    "        motifs.append(dna[0][i:i + k])\n",
    "        for j in range(1, t):\n",
    "            p = profile_motifs(motifs[0:j])\n",
    "            motifs.append(profile_most_probable_kmer(dna[j], k, p))\n",
    "        if score_motif(motifs) < score_motif(best_motifs):\n",
    "            best_motifs = motifs\n",
    "    return best_motifs\n",
    "\n",
    "dna = [\"GGCGTTCAGGCA\",\"AAGAATCAGTCA\", \"CAAGGAGTTCGC\",\"CACGTCAATCAC\", \"CAATAATATTCG\"]\n",
    "greedy_motif_search(dna, 3, 5)"
   ]
  },
  {
   "cell_type": "code",
   "execution_count": 26,
   "metadata": {},
   "outputs": [],
   "source": [
    "def count_with_pseudocounts(motifs):\n",
    "    len_str = len(motifs[0])\n",
    "    count_motifs = {nucleotide: [1]*len_str for nucleotide in \"ACGT\"}\n",
    "    # each motif, each char add count to that index!\n",
    "    for motif in motifs:\n",
    "        for i,char in enumerate(motif):\n",
    "            count_motifs[char][i] += 1\n",
    "    return count_motifs"
   ]
  },
  {
   "cell_type": "code",
   "execution_count": 27,
   "metadata": {},
   "outputs": [],
   "source": [
    "def profile_with_pseudocounts(motifs):\n",
    "    n_rows = len(motifs)\n",
    "    counts_dict = count_with_pseudocounts(motifs)\n",
    "    profile = {}\n",
    "    for char, counts in counts_dict.items():\n",
    "        # each count divide by column counts\n",
    "        profile[char] = [count/(n_rows + 4) for count in counts]   \n",
    "    return profile;"
   ]
  },
  {
   "cell_type": "code",
   "execution_count": 28,
   "metadata": {},
   "outputs": [],
   "source": [
    "def motifs(profile, dna):\n",
    "    k = len(profile[\"A\"])\n",
    "    most_prob_kmers = []\n",
    "    for string in dna:\n",
    "        most_prob_kmers.append(profile_most_probable_kmer(string, k, profile))\n",
    "    return most_prob_kmers\n",
    "        "
   ]
  },
  {
   "cell_type": "code",
   "execution_count": 29,
   "metadata": {},
   "outputs": [
    {
     "data": {
      "text/plain": [
       "['CCT', 'GTC', 'GGC', 'CTA', 'TCA']"
      ]
     },
     "execution_count": 29,
     "metadata": {},
     "output_type": "execute_result"
    }
   ],
   "source": [
    "import random\n",
    "\n",
    "def random_motifs(dna, k, t):\n",
    "    random_motifs = []\n",
    "    M = len(dna[0]) - k\n",
    "    for i in range(t):\n",
    "        rand_start = random.randint(0, M)\n",
    "        random_motifs.append(dna[i][rand_start: rand_start + k])\n",
    "    return random_motifs\n",
    "\n",
    "random_motifs([\n",
    "    \"TTACCTTAAC\",\n",
    "    \"GATGTCTGTC\",\n",
    "    \"ACGGCGTTAG\",\n",
    "    \"CCCTAACGAG\",\n",
    "    \"CGTCAGAGGT\",\n",
    "], 3, 5)"
   ]
  },
  {
   "cell_type": "code",
   "execution_count": 30,
   "metadata": {},
   "outputs": [
    {
     "data": {
      "text/plain": [
       "['GTAAACGG', 'TGTAAGTG', 'CGAAAGAA', 'TAGATCAA', 'TGCAATGT']"
      ]
     },
     "execution_count": 30,
     "metadata": {},
     "output_type": "execute_result"
    }
   ],
   "source": [
    "def random_motif_search(dna, k, t):\n",
    "    best_motifs = random_motifs(dna, k, t)\n",
    "    while True:\n",
    "        profile = profile_with_pseudocounts(best_motifs)\n",
    "        new_motifs = motifs(profile, dna)\n",
    "        if score_motif(new_motifs) < score_motif(best_motifs):\n",
    "            best_motifs = new_motifs\n",
    "        else:\n",
    "            return best_motifs\n",
    "random_motif_search([\n",
    "    \"CGCCCCTCTCGGGGGTGTTCAGTAAACGGCCA\",\n",
    "    \"GGGCGAGGTATGTGTAAGTGCCAAGGTGCCAG\",\n",
    "    \"TAGTACCGAGACCGAAAGAAGTATACAGGCGT\",\n",
    "    \"TAGATCAAGTTTCAGGTGCACGTCGGTGAACC\",\n",
    "    \"AATCCACCAGCTCCACGTGCAATGTTGGCCTA\",\n",
    "], 8, 5)"
   ]
  },
  {
   "cell_type": "code",
   "execution_count": 31,
   "metadata": {},
   "outputs": [
    {
     "data": {
      "text/plain": [
       "{'A': 0.25, 'C': 0.25, 'G': 0.25, 'T': 0.25}"
      ]
     },
     "execution_count": 31,
     "metadata": {},
     "output_type": "execute_result"
    }
   ],
   "source": [
    "def normalize(probabilities):\n",
    "    denominator = sum(probabilities.values())\n",
    "    return {base: prob/denominator for base, prob in probabilities.items()}\n",
    "\n",
    "normalize({'A': 0.1, 'C': 0.1, 'G': 0.1, 'T': 0.1})"
   ]
  },
  {
   "cell_type": "code",
   "execution_count": 45,
   "metadata": {},
   "outputs": [],
   "source": [
    "def weighted_die(probabilities: dict[str, float]) -> str:\n",
    "    p = random.uniform(0, 1)\n",
    "    cumlative_prob = 0\n",
    "    for kmer, prob in probabilities.items():\n",
    "        cumlative_prob += prob\n",
    "        if p < cumlative_prob:\n",
    "            return kmer\n"
   ]
  },
  {
   "cell_type": "code",
   "execution_count": 33,
   "metadata": {},
   "outputs": [
    {
     "data": {
      "text/plain": [
       "'CC'"
      ]
     },
     "execution_count": 33,
     "metadata": {},
     "output_type": "execute_result"
    }
   ],
   "source": [
    "def profile_generating_string(text, profile, k):\n",
    "    n = len(text)\n",
    "    probabilites = {}\n",
    "    for i in range(n - k + 1):\n",
    "        probabilites[text[i:i+k]] = pr(text[i:i+k], profile)\n",
    "    return weighted_die(normalize(probabilites))\n",
    "\n",
    "\n",
    "profile_generating_string(\"AAACCCAAACCC\", {'A': [0.5, 0.1], 'C': [0.3, 0.2], 'G': [0.2, 0.4], 'T': [0.0, 0.3]}, 2)"
   ]
  },
  {
   "cell_type": "code",
   "execution_count": 46,
   "metadata": {},
   "outputs": [
    {
     "data": {
      "text/plain": [
       "['CGGGGGTG', 'AAGTGCCA', 'CGAAAGAA', 'AGGTGCAC', 'GTGCAATG']"
      ]
     },
     "execution_count": 46,
     "metadata": {},
     "output_type": "execute_result"
    }
   ],
   "source": [
    "def gibbs_sampler(dna, k,  t, N):\n",
    "    best_motifs = random_motifs(dna, k, t)\n",
    "    for _ in range(N):\n",
    "        remove_idx = random.randint(0, t-1)\n",
    "        cur_motifs = [motif for idx, motif in enumerate(best_motifs) if idx != remove_idx]\n",
    "        profile = profile_with_pseudocounts(cur_motifs)\n",
    "        motif_cur = profile_generating_string(dna[remove_idx], profile, k)\n",
    "        cur_motifs.insert(remove_idx, motif_cur)\n",
    "        if score_motif(cur_motifs) < score_motif(cur_motifs):\n",
    "            best_motifs = cur_motifs\n",
    "    return best_motifs\n",
    "\n",
    "gibbs_sampler(\n",
    "[\"CGCCCCTCTCGGGGGTGTTCAGTAAACGGCCA\",\n",
    "\"GGGCGAGGTATGTGTAAGTGCCAAGGTGCCAG\",\n",
    "\"TAGTACCGAGACCGAAAGAAGTATACAGGCGT\",\n",
    "\"TAGATCAAGTTTCAGGTGCACGTCGGTGAACC\",\n",
    "\"AATCCACCAGCTCCACGTGCAATGTTGGCCTA\"],\n",
    "8, 5, 100\n",
    ")\n",
    "        "
   ]
  },
  {
   "cell_type": "code",
   "execution_count": null,
   "metadata": {},
   "outputs": [],
   "source": [
    "# tubercolosis hibernate hide from antibiotics\n"
   ]
  }
 ],
 "metadata": {
  "kernelspec": {
   "display_name": "Python 3",
   "language": "python",
   "name": "python3"
  },
  "language_info": {
   "codemirror_mode": {
    "name": "ipython",
    "version": 3
   },
   "file_extension": ".py",
   "mimetype": "text/x-python",
   "name": "python",
   "nbconvert_exporter": "python",
   "pygments_lexer": "ipython3",
   "version": "3.10.12"
  }
 },
 "nbformat": 4,
 "nbformat_minor": 2
}
